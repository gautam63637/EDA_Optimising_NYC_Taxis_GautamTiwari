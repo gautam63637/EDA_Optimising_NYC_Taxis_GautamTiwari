{
  "nbformat": 4,
  "nbformat_minor": 0,
  "metadata": {
    "colab": {
      "provenance": []
    },
    "kernelspec": {
      "name": "python3",
      "display_name": "Python 3"
    },
    "language_info": {
      "name": "python"
    }
  },
  "cells": [
    {
      "cell_type": "code",
      "execution_count": null,
      "metadata": {
        "colab": {
          "base_uri": "https://localhost:8080/"
        },
        "id": "oQ373Su4usQP",
        "outputId": "c063393e-1b15-445c-fcc2-6b3efe85de48"
      },
      "outputs": [
        {
          "output_type": "stream",
          "name": "stdout",
          "text": [
            "Drive already mounted at /content/drive; to attempt to forcibly remount, call drive.mount(\"/content/drive\", force_remount=True).\n"
          ]
        }
      ],
      "source": [
        "from google.colab import drive\n",
        "drive.mount('/content/drive')\n"
      ]
    },
    {
      "cell_type": "code",
      "source": [
        "import pandas as pd\n",
        "\n",
        "df_jan = pd.read_parquet('/content/drive/MyDrive/Datasets and Dictionary/trip_records/2023-1.parquet')"
      ],
      "metadata": {
        "id": "RUCSjAegvVRd"
      },
      "execution_count": null,
      "outputs": []
    },
    {
      "cell_type": "code",
      "source": [
        "import pandas as pd\n",
        "\n",
        "df_jan = pd.read_parquet('/content/drive/MyDrive/Datasets and Dictionary/trip_records/2023-1.parquet')\n",
        "\n",
        "hour_data = df_jan[df_jan['tpep_pickup_datetime'].dt.hour == 10]\n",
        "sample = hour_data.sample(frac = 0.20, random_state = 42)\n",
        "sampled_data = pd.DataFrame()\n",
        "sampled_data_jan = pd.concat([sampled_data, sample])"
      ],
      "metadata": {
        "id": "TaQbX-gIvuW6"
      },
      "execution_count": null,
      "outputs": []
    },
    {
      "cell_type": "code",
      "source": [
        "sampled_data_jan.shape"
      ],
      "metadata": {
        "colab": {
          "base_uri": "https://localhost:8080/"
        },
        "id": "vsRDg1-bxF5M",
        "outputId": "fe939048-d7dd-4b29-8db7-e9f47ce28a43"
      },
      "execution_count": null,
      "outputs": [
        {
          "output_type": "execute_result",
          "data": {
            "text/plain": [
              "(28532, 19)"
            ]
          },
          "metadata": {},
          "execution_count": 4
        }
      ]
    },
    {
      "cell_type": "code",
      "source": [
        "import pandas as pd\n",
        "\n",
        "df_feb = pd.read_parquet('/content/drive/MyDrive/Datasets and Dictionary/trip_records/2023-2.parquet') # Replace with the actual path to your parquet file\n",
        "\n"
      ],
      "metadata": {
        "id": "_pM6jRoiwYtj"
      },
      "execution_count": null,
      "outputs": []
    },
    {
      "cell_type": "code",
      "source": [
        "hour_data = df_feb[df_feb['tpep_pickup_datetime'].dt.hour == 10]\n",
        "sample = hour_data.sample(frac = 0.30, random_state = 32)\n",
        "sampled_data = pd.DataFrame()\n",
        "sampled_data_feb = pd.concat([sampled_data, sample])"
      ],
      "metadata": {
        "id": "FAVLDMChx3tU"
      },
      "execution_count": null,
      "outputs": []
    },
    {
      "cell_type": "code",
      "source": [
        "sampled_data_feb.shape"
      ],
      "metadata": {
        "colab": {
          "base_uri": "https://localhost:8080/"
        },
        "id": "zRG-kVh3yNAo",
        "outputId": "7a4f0e7e-1cd2-4ec8-ea97-d29abd44eb3f"
      },
      "execution_count": null,
      "outputs": [
        {
          "output_type": "execute_result",
          "data": {
            "text/plain": [
              "(46486, 19)"
            ]
          },
          "metadata": {},
          "execution_count": 7
        }
      ]
    },
    {
      "cell_type": "code",
      "source": [
        "import pandas as pd\n",
        "\n",
        "df_mar = pd.read_parquet('/content/drive/MyDrive/Datasets and Dictionary/trip_records/2023-3.parquet')\n",
        "\n"
      ],
      "metadata": {
        "id": "4MHdDiXKyasI"
      },
      "execution_count": null,
      "outputs": []
    },
    {
      "cell_type": "code",
      "source": [
        "hour_data = df_mar[df_mar['tpep_pickup_datetime'].dt.hour == 10]\n",
        "sample = hour_data.sample(frac = 0.18, random_state = 32)\n",
        "sampled_data = pd.DataFrame()\n",
        "sampled_data_mar = pd.concat([sampled_data, sample])"
      ],
      "metadata": {
        "id": "SUbEf-pGzFTO"
      },
      "execution_count": null,
      "outputs": []
    },
    {
      "cell_type": "code",
      "source": [
        "sampled_data_mar.shape"
      ],
      "metadata": {
        "colab": {
          "base_uri": "https://localhost:8080/"
        },
        "id": "1Izru659zFRt",
        "outputId": "2687c09b-fca9-462b-debd-79f3168f6418"
      },
      "execution_count": null,
      "outputs": [
        {
          "output_type": "execute_result",
          "data": {
            "text/plain": [
              "(27272, 19)"
            ]
          },
          "metadata": {},
          "execution_count": 10
        }
      ]
    },
    {
      "cell_type": "code",
      "source": [
        "sampled_data_mar.head()"
      ],
      "metadata": {
        "colab": {
          "base_uri": "https://localhost:8080/",
          "height": 226
        },
        "id": "9gABaegTzFOu",
        "outputId": "86fa5261-aa58-48f4-9bc8-1d33defbb518"
      },
      "execution_count": null,
      "outputs": [
        {
          "output_type": "execute_result",
          "data": {
            "text/plain": [
              "         VendorID tpep_pickup_datetime tpep_dropoff_datetime  passenger_count  \\\n",
              "1342349         2  2023-06-13 10:40:11   2023-06-13 11:14:42              1.0   \n",
              "2728995         2  2023-06-26 10:24:18   2023-06-26 10:29:53              2.0   \n",
              "3034614         2  2023-06-29 10:13:05   2023-06-29 10:19:10              2.0   \n",
              "2423154         1  2023-06-23 10:43:23   2023-06-23 10:51:38              1.0   \n",
              "807203          2  2023-06-08 10:39:24   2023-06-08 10:52:46              2.0   \n",
              "\n",
              "         trip_distance  RatecodeID store_and_fwd_flag  PULocationID  \\\n",
              "1342349           2.50         1.0                  N            90   \n",
              "2728995           0.41         1.0                  N            48   \n",
              "3034614           0.54         1.0                  N           249   \n",
              "2423154           1.40         1.0                  N            43   \n",
              "807203            1.78         1.0                  N           144   \n",
              "\n",
              "         DOLocationID  payment_type  fare_amount  extra  mta_tax  tip_amount  \\\n",
              "1342349           237             1         28.2    0.0      0.5        6.44   \n",
              "2728995            48             1          6.5    0.0      0.5        2.00   \n",
              "3034614           249             1          7.2    0.0      0.5        3.36   \n",
              "2423154           141             1         10.7    2.5      0.5        2.94   \n",
              "807203            113             1         13.5    0.0      0.5        4.38   \n",
              "\n",
              "         tolls_amount  improvement_surcharge  total_amount  \\\n",
              "1342349           0.0                    1.0         38.64   \n",
              "2728995           0.0                    1.0         12.50   \n",
              "3034614           0.0                    1.0         14.56   \n",
              "2423154           0.0                    1.0         17.64   \n",
              "807203            0.0                    1.0         21.88   \n",
              "\n",
              "         congestion_surcharge  Airport_fee  \n",
              "1342349                   2.5          0.0  \n",
              "2728995                   2.5          0.0  \n",
              "3034614                   2.5          0.0  \n",
              "2423154                   2.5          0.0  \n",
              "807203                    2.5          0.0  "
            ],
            "text/html": [
              "\n",
              "  <div id=\"df-33d9bc50-e0f3-4e51-9799-8ebb8378554a\" class=\"colab-df-container\">\n",
              "    <div>\n",
              "<style scoped>\n",
              "    .dataframe tbody tr th:only-of-type {\n",
              "        vertical-align: middle;\n",
              "    }\n",
              "\n",
              "    .dataframe tbody tr th {\n",
              "        vertical-align: top;\n",
              "    }\n",
              "\n",
              "    .dataframe thead th {\n",
              "        text-align: right;\n",
              "    }\n",
              "</style>\n",
              "<table border=\"1\" class=\"dataframe\">\n",
              "  <thead>\n",
              "    <tr style=\"text-align: right;\">\n",
              "      <th></th>\n",
              "      <th>VendorID</th>\n",
              "      <th>tpep_pickup_datetime</th>\n",
              "      <th>tpep_dropoff_datetime</th>\n",
              "      <th>passenger_count</th>\n",
              "      <th>trip_distance</th>\n",
              "      <th>RatecodeID</th>\n",
              "      <th>store_and_fwd_flag</th>\n",
              "      <th>PULocationID</th>\n",
              "      <th>DOLocationID</th>\n",
              "      <th>payment_type</th>\n",
              "      <th>fare_amount</th>\n",
              "      <th>extra</th>\n",
              "      <th>mta_tax</th>\n",
              "      <th>tip_amount</th>\n",
              "      <th>tolls_amount</th>\n",
              "      <th>improvement_surcharge</th>\n",
              "      <th>total_amount</th>\n",
              "      <th>congestion_surcharge</th>\n",
              "      <th>Airport_fee</th>\n",
              "    </tr>\n",
              "  </thead>\n",
              "  <tbody>\n",
              "    <tr>\n",
              "      <th>1342349</th>\n",
              "      <td>2</td>\n",
              "      <td>2023-06-13 10:40:11</td>\n",
              "      <td>2023-06-13 11:14:42</td>\n",
              "      <td>1.0</td>\n",
              "      <td>2.50</td>\n",
              "      <td>1.0</td>\n",
              "      <td>N</td>\n",
              "      <td>90</td>\n",
              "      <td>237</td>\n",
              "      <td>1</td>\n",
              "      <td>28.2</td>\n",
              "      <td>0.0</td>\n",
              "      <td>0.5</td>\n",
              "      <td>6.44</td>\n",
              "      <td>0.0</td>\n",
              "      <td>1.0</td>\n",
              "      <td>38.64</td>\n",
              "      <td>2.5</td>\n",
              "      <td>0.0</td>\n",
              "    </tr>\n",
              "    <tr>\n",
              "      <th>2728995</th>\n",
              "      <td>2</td>\n",
              "      <td>2023-06-26 10:24:18</td>\n",
              "      <td>2023-06-26 10:29:53</td>\n",
              "      <td>2.0</td>\n",
              "      <td>0.41</td>\n",
              "      <td>1.0</td>\n",
              "      <td>N</td>\n",
              "      <td>48</td>\n",
              "      <td>48</td>\n",
              "      <td>1</td>\n",
              "      <td>6.5</td>\n",
              "      <td>0.0</td>\n",
              "      <td>0.5</td>\n",
              "      <td>2.00</td>\n",
              "      <td>0.0</td>\n",
              "      <td>1.0</td>\n",
              "      <td>12.50</td>\n",
              "      <td>2.5</td>\n",
              "      <td>0.0</td>\n",
              "    </tr>\n",
              "    <tr>\n",
              "      <th>3034614</th>\n",
              "      <td>2</td>\n",
              "      <td>2023-06-29 10:13:05</td>\n",
              "      <td>2023-06-29 10:19:10</td>\n",
              "      <td>2.0</td>\n",
              "      <td>0.54</td>\n",
              "      <td>1.0</td>\n",
              "      <td>N</td>\n",
              "      <td>249</td>\n",
              "      <td>249</td>\n",
              "      <td>1</td>\n",
              "      <td>7.2</td>\n",
              "      <td>0.0</td>\n",
              "      <td>0.5</td>\n",
              "      <td>3.36</td>\n",
              "      <td>0.0</td>\n",
              "      <td>1.0</td>\n",
              "      <td>14.56</td>\n",
              "      <td>2.5</td>\n",
              "      <td>0.0</td>\n",
              "    </tr>\n",
              "    <tr>\n",
              "      <th>2423154</th>\n",
              "      <td>1</td>\n",
              "      <td>2023-06-23 10:43:23</td>\n",
              "      <td>2023-06-23 10:51:38</td>\n",
              "      <td>1.0</td>\n",
              "      <td>1.40</td>\n",
              "      <td>1.0</td>\n",
              "      <td>N</td>\n",
              "      <td>43</td>\n",
              "      <td>141</td>\n",
              "      <td>1</td>\n",
              "      <td>10.7</td>\n",
              "      <td>2.5</td>\n",
              "      <td>0.5</td>\n",
              "      <td>2.94</td>\n",
              "      <td>0.0</td>\n",
              "      <td>1.0</td>\n",
              "      <td>17.64</td>\n",
              "      <td>2.5</td>\n",
              "      <td>0.0</td>\n",
              "    </tr>\n",
              "    <tr>\n",
              "      <th>807203</th>\n",
              "      <td>2</td>\n",
              "      <td>2023-06-08 10:39:24</td>\n",
              "      <td>2023-06-08 10:52:46</td>\n",
              "      <td>2.0</td>\n",
              "      <td>1.78</td>\n",
              "      <td>1.0</td>\n",
              "      <td>N</td>\n",
              "      <td>144</td>\n",
              "      <td>113</td>\n",
              "      <td>1</td>\n",
              "      <td>13.5</td>\n",
              "      <td>0.0</td>\n",
              "      <td>0.5</td>\n",
              "      <td>4.38</td>\n",
              "      <td>0.0</td>\n",
              "      <td>1.0</td>\n",
              "      <td>21.88</td>\n",
              "      <td>2.5</td>\n",
              "      <td>0.0</td>\n",
              "    </tr>\n",
              "  </tbody>\n",
              "</table>\n",
              "</div>\n",
              "    <div class=\"colab-df-buttons\">\n",
              "\n",
              "  <div class=\"colab-df-container\">\n",
              "    <button class=\"colab-df-convert\" onclick=\"convertToInteractive('df-33d9bc50-e0f3-4e51-9799-8ebb8378554a')\"\n",
              "            title=\"Convert this dataframe to an interactive table.\"\n",
              "            style=\"display:none;\">\n",
              "\n",
              "  <svg xmlns=\"http://www.w3.org/2000/svg\" height=\"24px\" viewBox=\"0 -960 960 960\">\n",
              "    <path d=\"M120-120v-720h720v720H120Zm60-500h600v-160H180v160Zm220 220h160v-160H400v160Zm0 220h160v-160H400v160ZM180-400h160v-160H180v160Zm440 0h160v-160H620v160ZM180-180h160v-160H180v160Zm440 0h160v-160H620v160Z\"/>\n",
              "  </svg>\n",
              "    </button>\n",
              "\n",
              "  <style>\n",
              "    .colab-df-container {\n",
              "      display:flex;\n",
              "      gap: 12px;\n",
              "    }\n",
              "\n",
              "    .colab-df-convert {\n",
              "      background-color: #E8F0FE;\n",
              "      border: none;\n",
              "      border-radius: 50%;\n",
              "      cursor: pointer;\n",
              "      display: none;\n",
              "      fill: #1967D2;\n",
              "      height: 32px;\n",
              "      padding: 0 0 0 0;\n",
              "      width: 32px;\n",
              "    }\n",
              "\n",
              "    .colab-df-convert:hover {\n",
              "      background-color: #E2EBFA;\n",
              "      box-shadow: 0px 1px 2px rgba(60, 64, 67, 0.3), 0px 1px 3px 1px rgba(60, 64, 67, 0.15);\n",
              "      fill: #174EA6;\n",
              "    }\n",
              "\n",
              "    .colab-df-buttons div {\n",
              "      margin-bottom: 4px;\n",
              "    }\n",
              "\n",
              "    [theme=dark] .colab-df-convert {\n",
              "      background-color: #3B4455;\n",
              "      fill: #D2E3FC;\n",
              "    }\n",
              "\n",
              "    [theme=dark] .colab-df-convert:hover {\n",
              "      background-color: #434B5C;\n",
              "      box-shadow: 0px 1px 3px 1px rgba(0, 0, 0, 0.15);\n",
              "      filter: drop-shadow(0px 1px 2px rgba(0, 0, 0, 0.3));\n",
              "      fill: #FFFFFF;\n",
              "    }\n",
              "  </style>\n",
              "\n",
              "    <script>\n",
              "      const buttonEl =\n",
              "        document.querySelector('#df-33d9bc50-e0f3-4e51-9799-8ebb8378554a button.colab-df-convert');\n",
              "      buttonEl.style.display =\n",
              "        google.colab.kernel.accessAllowed ? 'block' : 'none';\n",
              "\n",
              "      async function convertToInteractive(key) {\n",
              "        const element = document.querySelector('#df-33d9bc50-e0f3-4e51-9799-8ebb8378554a');\n",
              "        const dataTable =\n",
              "          await google.colab.kernel.invokeFunction('convertToInteractive',\n",
              "                                                    [key], {});\n",
              "        if (!dataTable) return;\n",
              "\n",
              "        const docLinkHtml = 'Like what you see? Visit the ' +\n",
              "          '<a target=\"_blank\" href=https://colab.research.google.com/notebooks/data_table.ipynb>data table notebook</a>'\n",
              "          + ' to learn more about interactive tables.';\n",
              "        element.innerHTML = '';\n",
              "        dataTable['output_type'] = 'display_data';\n",
              "        await google.colab.output.renderOutput(dataTable, element);\n",
              "        const docLink = document.createElement('div');\n",
              "        docLink.innerHTML = docLinkHtml;\n",
              "        element.appendChild(docLink);\n",
              "      }\n",
              "    </script>\n",
              "  </div>\n",
              "\n",
              "\n",
              "<div id=\"df-6f4a299c-bab5-4143-8452-33d6b110e7c6\">\n",
              "  <button class=\"colab-df-quickchart\" onclick=\"quickchart('df-6f4a299c-bab5-4143-8452-33d6b110e7c6')\"\n",
              "            title=\"Suggest charts\"\n",
              "            style=\"display:none;\">\n",
              "\n",
              "<svg xmlns=\"http://www.w3.org/2000/svg\" height=\"24px\"viewBox=\"0 0 24 24\"\n",
              "     width=\"24px\">\n",
              "    <g>\n",
              "        <path d=\"M19 3H5c-1.1 0-2 .9-2 2v14c0 1.1.9 2 2 2h14c1.1 0 2-.9 2-2V5c0-1.1-.9-2-2-2zM9 17H7v-7h2v7zm4 0h-2V7h2v10zm4 0h-2v-4h2v4z\"/>\n",
              "    </g>\n",
              "</svg>\n",
              "  </button>\n",
              "\n",
              "<style>\n",
              "  .colab-df-quickchart {\n",
              "      --bg-color: #E8F0FE;\n",
              "      --fill-color: #1967D2;\n",
              "      --hover-bg-color: #E2EBFA;\n",
              "      --hover-fill-color: #174EA6;\n",
              "      --disabled-fill-color: #AAA;\n",
              "      --disabled-bg-color: #DDD;\n",
              "  }\n",
              "\n",
              "  [theme=dark] .colab-df-quickchart {\n",
              "      --bg-color: #3B4455;\n",
              "      --fill-color: #D2E3FC;\n",
              "      --hover-bg-color: #434B5C;\n",
              "      --hover-fill-color: #FFFFFF;\n",
              "      --disabled-bg-color: #3B4455;\n",
              "      --disabled-fill-color: #666;\n",
              "  }\n",
              "\n",
              "  .colab-df-quickchart {\n",
              "    background-color: var(--bg-color);\n",
              "    border: none;\n",
              "    border-radius: 50%;\n",
              "    cursor: pointer;\n",
              "    display: none;\n",
              "    fill: var(--fill-color);\n",
              "    height: 32px;\n",
              "    padding: 0;\n",
              "    width: 32px;\n",
              "  }\n",
              "\n",
              "  .colab-df-quickchart:hover {\n",
              "    background-color: var(--hover-bg-color);\n",
              "    box-shadow: 0 1px 2px rgba(60, 64, 67, 0.3), 0 1px 3px 1px rgba(60, 64, 67, 0.15);\n",
              "    fill: var(--button-hover-fill-color);\n",
              "  }\n",
              "\n",
              "  .colab-df-quickchart-complete:disabled,\n",
              "  .colab-df-quickchart-complete:disabled:hover {\n",
              "    background-color: var(--disabled-bg-color);\n",
              "    fill: var(--disabled-fill-color);\n",
              "    box-shadow: none;\n",
              "  }\n",
              "\n",
              "  .colab-df-spinner {\n",
              "    border: 2px solid var(--fill-color);\n",
              "    border-color: transparent;\n",
              "    border-bottom-color: var(--fill-color);\n",
              "    animation:\n",
              "      spin 1s steps(1) infinite;\n",
              "  }\n",
              "\n",
              "  @keyframes spin {\n",
              "    0% {\n",
              "      border-color: transparent;\n",
              "      border-bottom-color: var(--fill-color);\n",
              "      border-left-color: var(--fill-color);\n",
              "    }\n",
              "    20% {\n",
              "      border-color: transparent;\n",
              "      border-left-color: var(--fill-color);\n",
              "      border-top-color: var(--fill-color);\n",
              "    }\n",
              "    30% {\n",
              "      border-color: transparent;\n",
              "      border-left-color: var(--fill-color);\n",
              "      border-top-color: var(--fill-color);\n",
              "      border-right-color: var(--fill-color);\n",
              "    }\n",
              "    40% {\n",
              "      border-color: transparent;\n",
              "      border-right-color: var(--fill-color);\n",
              "      border-top-color: var(--fill-color);\n",
              "    }\n",
              "    60% {\n",
              "      border-color: transparent;\n",
              "      border-right-color: var(--fill-color);\n",
              "    }\n",
              "    80% {\n",
              "      border-color: transparent;\n",
              "      border-right-color: var(--fill-color);\n",
              "      border-bottom-color: var(--fill-color);\n",
              "    }\n",
              "    90% {\n",
              "      border-color: transparent;\n",
              "      border-bottom-color: var(--fill-color);\n",
              "    }\n",
              "  }\n",
              "</style>\n",
              "\n",
              "  <script>\n",
              "    async function quickchart(key) {\n",
              "      const quickchartButtonEl =\n",
              "        document.querySelector('#' + key + ' button');\n",
              "      quickchartButtonEl.disabled = true;  // To prevent multiple clicks.\n",
              "      quickchartButtonEl.classList.add('colab-df-spinner');\n",
              "      try {\n",
              "        const charts = await google.colab.kernel.invokeFunction(\n",
              "            'suggestCharts', [key], {});\n",
              "      } catch (error) {\n",
              "        console.error('Error during call to suggestCharts:', error);\n",
              "      }\n",
              "      quickchartButtonEl.classList.remove('colab-df-spinner');\n",
              "      quickchartButtonEl.classList.add('colab-df-quickchart-complete');\n",
              "    }\n",
              "    (() => {\n",
              "      let quickchartButtonEl =\n",
              "        document.querySelector('#df-6f4a299c-bab5-4143-8452-33d6b110e7c6 button');\n",
              "      quickchartButtonEl.style.display =\n",
              "        google.colab.kernel.accessAllowed ? 'block' : 'none';\n",
              "    })();\n",
              "  </script>\n",
              "</div>\n",
              "\n",
              "    </div>\n",
              "  </div>\n"
            ],
            "application/vnd.google.colaboratory.intrinsic+json": {
              "type": "dataframe",
              "variable_name": "sampled_data_mar",
              "summary": "{\n  \"name\": \"sampled_data_mar\",\n  \"rows\": 27272,\n  \"fields\": [\n    {\n      \"column\": \"VendorID\",\n      \"properties\": {\n        \"dtype\": \"int32\",\n        \"num_unique_values\": 3,\n        \"samples\": [\n          2,\n          1,\n          6\n        ],\n        \"semantic_type\": \"\",\n        \"description\": \"\"\n      }\n    },\n    {\n      \"column\": \"tpep_pickup_datetime\",\n      \"properties\": {\n        \"dtype\": \"date\",\n        \"min\": \"2023-06-01 10:00:11\",\n        \"max\": \"2023-06-30 10:59:59\",\n        \"num_unique_values\": 23938,\n        \"samples\": [\n          \"2023-06-08 10:17:29\",\n          \"2023-06-23 10:59:30\",\n          \"2023-06-20 10:41:49\"\n        ],\n        \"semantic_type\": \"\",\n        \"description\": \"\"\n      }\n    },\n    {\n      \"column\": \"tpep_dropoff_datetime\",\n      \"properties\": {\n        \"dtype\": \"date\",\n        \"min\": \"2023-06-01 10:06:12\",\n        \"max\": \"2023-07-01 09:57:46\",\n        \"num_unique_values\": 24706,\n        \"samples\": [\n          \"2023-06-09 10:45:54\",\n          \"2023-06-03 11:16:52\",\n          \"2023-06-07 11:03:00\"\n        ],\n        \"semantic_type\": \"\",\n        \"description\": \"\"\n      }\n    },\n    {\n      \"column\": \"passenger_count\",\n      \"properties\": {\n        \"dtype\": \"number\",\n        \"std\": 0.8943989229018185,\n        \"min\": 0.0,\n        \"max\": 6.0,\n        \"num_unique_values\": 7,\n        \"samples\": [\n          1.0,\n          2.0,\n          0.0\n        ],\n        \"semantic_type\": \"\",\n        \"description\": \"\"\n      }\n    },\n    {\n      \"column\": \"trip_distance\",\n      \"properties\": {\n        \"dtype\": \"number\",\n        \"std\": 4.229456805385583,\n        \"min\": 0.0,\n        \"max\": 78.37,\n        \"num_unique_values\": 1870,\n        \"samples\": [\n          26.13,\n          31.9,\n          16.21\n        ],\n        \"semantic_type\": \"\",\n        \"description\": \"\"\n      }\n    },\n    {\n      \"column\": \"RatecodeID\",\n      \"properties\": {\n        \"dtype\": \"number\",\n        \"std\": 9.319755083657519,\n        \"min\": 1.0,\n        \"max\": 99.0,\n        \"num_unique_values\": 6,\n        \"samples\": [\n          1.0,\n          2.0,\n          4.0\n        ],\n        \"semantic_type\": \"\",\n        \"description\": \"\"\n      }\n    },\n    {\n      \"column\": \"store_and_fwd_flag\",\n      \"properties\": {\n        \"dtype\": \"category\",\n        \"num_unique_values\": 2,\n        \"samples\": [\n          \"Y\",\n          \"N\"\n        ],\n        \"semantic_type\": \"\",\n        \"description\": \"\"\n      }\n    },\n    {\n      \"column\": \"PULocationID\",\n      \"properties\": {\n        \"dtype\": \"int32\",\n        \"num_unique_values\": 190,\n        \"samples\": [\n          177,\n          189\n        ],\n        \"semantic_type\": \"\",\n        \"description\": \"\"\n      }\n    },\n    {\n      \"column\": \"DOLocationID\",\n      \"properties\": {\n        \"dtype\": \"int32\",\n        \"num_unique_values\": 230,\n        \"samples\": [\n          28,\n          43\n        ],\n        \"semantic_type\": \"\",\n        \"description\": \"\"\n      }\n    },\n    {\n      \"column\": \"payment_type\",\n      \"properties\": {\n        \"dtype\": \"number\",\n        \"std\": 0,\n        \"min\": 0,\n        \"max\": 5,\n        \"num_unique_values\": 6,\n        \"samples\": [\n          1,\n          2\n        ],\n        \"semantic_type\": \"\",\n        \"description\": \"\"\n      }\n    },\n    {\n      \"column\": \"fare_amount\",\n      \"properties\": {\n        \"dtype\": \"number\",\n        \"std\": 17.163817865305695,\n        \"min\": 0.0,\n        \"max\": 300.0,\n        \"num_unique_values\": 825,\n        \"samples\": [\n          79.8,\n          33.2\n        ],\n        \"semantic_type\": \"\",\n        \"description\": \"\"\n      }\n    },\n    {\n      \"column\": \"extra\",\n      \"properties\": {\n        \"dtype\": \"number\",\n        \"std\": 1.695831351979009,\n        \"min\": 0.0,\n        \"max\": 11.75,\n        \"num_unique_values\": 14,\n        \"samples\": [\n          1.0,\n          2.75\n        ],\n        \"semantic_type\": \"\",\n        \"description\": \"\"\n      }\n    },\n    {\n      \"column\": \"mta_tax\",\n      \"properties\": {\n        \"dtype\": \"number\",\n        \"std\": 0.04996668361053685,\n        \"min\": -0.5,\n        \"max\": 0.5,\n        \"num_unique_values\": 3,\n        \"samples\": [\n          0.5,\n          0.0\n        ],\n        \"semantic_type\": \"\",\n        \"description\": \"\"\n      }\n    },\n    {\n      \"column\": \"tip_amount\",\n      \"properties\": {\n        \"dtype\": \"number\",\n        \"std\": 3.8803154619528986,\n        \"min\": 0.0,\n        \"max\": 69.69,\n        \"num_unique_values\": 1224,\n        \"samples\": [\n          13.23,\n          3.8\n        ],\n        \"semantic_type\": \"\",\n        \"description\": \"\"\n      }\n    },\n    {\n      \"column\": \"tolls_amount\",\n      \"properties\": {\n        \"dtype\": \"number\",\n        \"std\": 2.25335945592556,\n        \"min\": 0.0,\n        \"max\": 44.25,\n        \"num_unique_values\": 70,\n        \"samples\": [\n          13.1,\n          0.0\n        ],\n        \"semantic_type\": \"\",\n        \"description\": \"\"\n      }\n    },\n    {\n      \"column\": \"improvement_surcharge\",\n      \"properties\": {\n        \"dtype\": \"number\",\n        \"std\": 0.03360337604105956,\n        \"min\": -1.0,\n        \"max\": 1.0,\n        \"num_unique_values\": 4,\n        \"samples\": [\n          0.3,\n          -1.0\n        ],\n        \"semantic_type\": \"\",\n        \"description\": \"\"\n      }\n    },\n    {\n      \"column\": \"total_amount\",\n      \"properties\": {\n        \"dtype\": \"number\",\n        \"std\": 21.980231676789884,\n        \"min\": -4.0,\n        \"max\": 365.35,\n        \"num_unique_values\": 2784,\n        \"samples\": [\n          13.12,\n          84.44\n        ],\n        \"semantic_type\": \"\",\n        \"description\": \"\"\n      }\n    },\n    {\n      \"column\": \"congestion_surcharge\",\n      \"properties\": {\n        \"dtype\": \"number\",\n        \"std\": 0.6489839302928463,\n        \"min\": -2.5,\n        \"max\": 2.5,\n        \"num_unique_values\": 3,\n        \"samples\": [\n          2.5,\n          0.0\n        ],\n        \"semantic_type\": \"\",\n        \"description\": \"\"\n      }\n    },\n    {\n      \"column\": \"Airport_fee\",\n      \"properties\": {\n        \"dtype\": \"number\",\n        \"std\": 0.46459592667247157,\n        \"min\": -1.75,\n        \"max\": 1.75,\n        \"num_unique_values\": 3,\n        \"samples\": [\n          0.0,\n          1.75\n        ],\n        \"semantic_type\": \"\",\n        \"description\": \"\"\n      }\n    }\n  ]\n}"
            }
          },
          "metadata": {},
          "execution_count": 11
        }
      ]
    },
    {
      "cell_type": "code",
      "source": [
        "import pandas as pd\n",
        "\n",
        "df_apr = pd.read_parquet('/content/drive/MyDrive/Datasets and Dictionary/trip_records/2023-4.parquet')\n",
        "\n"
      ],
      "metadata": {
        "id": "eqDxjiASzFKE"
      },
      "execution_count": null,
      "outputs": []
    },
    {
      "cell_type": "code",
      "source": [
        "hour_data = df_apr[df_apr['tpep_pickup_datetime'].dt.hour == 10]\n",
        "sample = hour_data.sample(frac = 0.20, random_state = 32)\n",
        "sampled_data = pd.DataFrame()\n",
        "sampled_data_apr = pd.concat([sampled_data, sample])"
      ],
      "metadata": {
        "id": "RBiilOOgzn4c"
      },
      "execution_count": null,
      "outputs": []
    },
    {
      "cell_type": "code",
      "source": [
        "sampled_data_apr.shape"
      ],
      "metadata": {
        "colab": {
          "base_uri": "https://localhost:8080/"
        },
        "id": "tiVwyU9Fzn1c",
        "outputId": "6acb8af9-65ea-4fc7-bf66-99d1bdd16646"
      },
      "execution_count": null,
      "outputs": [
        {
          "output_type": "execute_result",
          "data": {
            "text/plain": [
              "(26452, 19)"
            ]
          },
          "metadata": {},
          "execution_count": 14
        }
      ]
    },
    {
      "cell_type": "code",
      "source": [
        "import pandas as pd\n",
        "\n",
        "df_may = pd.read_parquet('/content/drive/MyDrive/Datasets and Dictionary/trip_records/2023-5.parquet')\n"
      ],
      "metadata": {
        "id": "LQTUpypSznyB"
      },
      "execution_count": null,
      "outputs": []
    },
    {
      "cell_type": "code",
      "source": [
        "hour_data = df_may[df_may['tpep_pickup_datetime'].dt.hour == 10]\n",
        "sample = hour_data.sample(frac = 0.24, random_state = 32)\n",
        "\n",
        "sampled_data = pd.DataFrame()\n",
        "sampled_data_may = pd.concat([sampled_data, sample])"
      ],
      "metadata": {
        "id": "mjkso4bbznwv"
      },
      "execution_count": null,
      "outputs": []
    },
    {
      "cell_type": "code",
      "source": [
        "sampled_data_may.shape"
      ],
      "metadata": {
        "colab": {
          "base_uri": "https://localhost:8080/"
        },
        "id": "ADc66AxJznvG",
        "outputId": "9fdae201-1753-4136-853d-104caee85804"
      },
      "execution_count": null,
      "outputs": [
        {
          "output_type": "execute_result",
          "data": {
            "text/plain": [
              "(32339, 19)"
            ]
          },
          "metadata": {},
          "execution_count": 17
        }
      ]
    },
    {
      "cell_type": "code",
      "source": [
        "import pandas as pd\n",
        "\n",
        "df_june = pd.read_parquet('/content/drive/MyDrive/Datasets and Dictionary/trip_records/2023-6.parquet')\n"
      ],
      "metadata": {
        "id": "VQKSJiBp0nV2"
      },
      "execution_count": null,
      "outputs": []
    },
    {
      "cell_type": "code",
      "source": [
        "hour_data = df_june[df_june['tpep_pickup_datetime'].dt.hour == 10]\n",
        "sample = hour_data.sample(frac = 0.14, random_state = 32)\n",
        "sampled_data = pd.DataFrame()\n",
        "sampled_data_june = pd.concat([sampled_data, sample])"
      ],
      "metadata": {
        "id": "xV9gnWdnzntw"
      },
      "execution_count": null,
      "outputs": []
    },
    {
      "cell_type": "code",
      "source": [
        "sampled_data_june.shape"
      ],
      "metadata": {
        "colab": {
          "base_uri": "https://localhost:8080/"
        },
        "id": "HdZzbmN7znoJ",
        "outputId": "f141a30a-caef-415e-fb8a-4c8531cb75b5"
      },
      "execution_count": null,
      "outputs": [
        {
          "output_type": "execute_result",
          "data": {
            "text/plain": [
              "(21352, 19)"
            ]
          },
          "metadata": {},
          "execution_count": 20
        }
      ]
    },
    {
      "cell_type": "code",
      "source": [
        "import pandas as pd\n",
        "\n",
        "df_july = pd.read_parquet('/content/drive/MyDrive/Datasets and Dictionary/trip_records/2023-7.parquet')\n"
      ],
      "metadata": {
        "id": "87fXlH0gznkw"
      },
      "execution_count": null,
      "outputs": []
    },
    {
      "cell_type": "code",
      "source": [
        "hour_data = df_july[df_july['tpep_pickup_datetime'].dt.hour == 10]\n",
        "sample = hour_data.sample(frac = 0.10, random_state = 32)\n",
        "sampled_data = pd.DataFrame()\n",
        "sampled_data_july = pd.concat([sampled_data, sample])"
      ],
      "metadata": {
        "id": "IMG3usncznh3"
      },
      "execution_count": null,
      "outputs": []
    },
    {
      "cell_type": "code",
      "source": [
        "import pandas as pd\n",
        "sampled_data_p1 = pd.concat([sampled_data_jan, sampled_data_feb, sampled_data_mar, sampled_data_apr, sampled_data_may, sampled_data_june, sampled_data_july])\n",
        "sampled_data_p1.shape\n"
      ],
      "metadata": {
        "colab": {
          "base_uri": "https://localhost:8080/"
        },
        "id": "cU8KgnNj11OC",
        "outputId": "9aae3c6b-685f-4042-a2b3-e3ec54c94ba4"
      },
      "execution_count": null,
      "outputs": [
        {
          "output_type": "execute_result",
          "data": {
            "text/plain": [
              "(198557, 20)"
            ]
          },
          "metadata": {},
          "execution_count": 23
        }
      ]
    },
    {
      "cell_type": "code",
      "source": [
        "import pandas as pd\n",
        "\n",
        "df_aug = pd.read_parquet('/content/drive/MyDrive/Datasets and Dictionary/trip_records/2023-8.parquet')\n",
        "hour_data = df_aug[df_aug['tpep_pickup_datetime'].dt.hour == 10]\n",
        "\n",
        "sample = hour_data.sample(frac = 0.14, random_state = 32)\n",
        "sampled_data = pd.DataFrame()\n",
        "sampled_data_aug = pd.concat([sampled_data, sample])"
      ],
      "metadata": {
        "id": "yyQ9_xv311Kb"
      },
      "execution_count": null,
      "outputs": []
    },
    {
      "cell_type": "code",
      "source": [
        "sampled_data_aug.shape"
      ],
      "metadata": {
        "colab": {
          "base_uri": "https://localhost:8080/"
        },
        "id": "SV2yDdEh11Ch",
        "outputId": "f6920f5b-982c-42c2-9ec3-67254eab6973"
      },
      "execution_count": null,
      "outputs": [
        {
          "output_type": "execute_result",
          "data": {
            "text/plain": [
              "(18610, 19)"
            ]
          },
          "metadata": {},
          "execution_count": 25
        }
      ]
    },
    {
      "cell_type": "code",
      "source": [
        "import pandas as pd\n",
        "\n",
        "df_sep = pd.read_parquet('/content/drive/MyDrive/Datasets and Dictionary/trip_records/2023-9.parquet')\n",
        "hour_data = df_sep[df_sep['tpep_pickup_datetime'].dt.hour == 10]\n",
        "\n",
        "sample = hour_data.sample(frac = 0.24, random_state = 32)\n",
        "sampled_data = pd.DataFrame()\n",
        "sampled_data_sep = pd.concat([sampled_data, sample])"
      ],
      "metadata": {
        "id": "tcJrhjJp10-X"
      },
      "execution_count": null,
      "outputs": []
    },
    {
      "cell_type": "code",
      "source": [
        "import pandas as pd\n",
        "\n",
        "df_oct = pd.read_parquet('/content/drive/MyDrive/Datasets and Dictionary/trip_records/2023-10.parquet')\n",
        "hour_data = df_oct[df_oct['tpep_pickup_datetime'].dt.hour == 10]\n",
        "\n",
        "sample = hour_data.sample(frac = 0.26, random_state = 32)\n",
        "sampled_data = pd.DataFrame()\n",
        "sampled_data_oct = pd.concat([sampled_data, sample])"
      ],
      "metadata": {
        "id": "tWP_Se14zFBw"
      },
      "execution_count": null,
      "outputs": []
    },
    {
      "cell_type": "code",
      "source": [
        "import pandas as pd\n",
        "\n",
        "df_nov = pd.read_parquet('/content/drive/MyDrive/Datasets and Dictionary/trip_records/2023-11.parquet')\n",
        "hour_data = df_nov[df_nov['tpep_pickup_datetime'].dt.hour == 10]\n",
        "\n",
        "sample = hour_data.sample(frac = 0.19, random_state = 32)\n",
        "sampled_data = pd.DataFrame()\n",
        "sampled_data_nov = pd.concat([sampled_data, sample])"
      ],
      "metadata": {
        "id": "IEeHvImQ4Doi"
      },
      "execution_count": null,
      "outputs": []
    },
    {
      "cell_type": "code",
      "source": [
        "import pandas as pd\n",
        "\n",
        "df_dec = pd.read_parquet('/content/drive/MyDrive/Datasets and Dictionary/trip_records/2023-12.parquet')\n",
        "hour_data = df_dec[df_dec['tpep_pickup_datetime'].dt.hour == 10]\n",
        "\n",
        "sample = hour_data.sample(frac = 0.27, random_state = 32)\n",
        "sampled_data = pd.DataFrame()\n",
        "sampled_data_dec = pd.concat([sampled_data, sample])"
      ],
      "metadata": {
        "id": "uH9394rX4SLc"
      },
      "execution_count": null,
      "outputs": []
    },
    {
      "cell_type": "code",
      "source": [
        "# concatinate the remaining sampled data\n",
        "\n",
        "import pandas as pd\n",
        "sampled_data_p2 = pd.concat([sampled_data_aug, sampled_data_sep, sampled_data_oct, sampled_data_nov, sampled_data_dec])\n",
        "sampled_data_p2.shape\n",
        "\n",
        "sampled_data_final = pd.concat([sampled_data_p1, sampled_data_p2])\n",
        "sampled_data_final.shape\n"
      ],
      "metadata": {
        "colab": {
          "base_uri": "https://localhost:8080/"
        },
        "id": "UxIoTp5i4SU4",
        "outputId": "958c66f8-26b6-4f69-bfbf-98cef4429307"
      },
      "execution_count": null,
      "outputs": [
        {
          "output_type": "execute_result",
          "data": {
            "text/plain": [
              "(360234, 20)"
            ]
          },
          "metadata": {},
          "execution_count": 38
        }
      ]
    },
    {
      "cell_type": "code",
      "source": [
        "#download sampled_data_final as csv\n",
        "\n",
        "sampled_data_final.to_csv('sampled_data_final.csv', index=False)\n",
        "from google.colab import files\n",
        "files.download('sampled_data_final.csv')\n"
      ],
      "metadata": {
        "colab": {
          "base_uri": "https://localhost:8080/",
          "height": 17
        },
        "id": "kVVzzQ_r4SYg",
        "outputId": "fd7bbbfa-a3be-454d-a44e-e24cde4690b7"
      },
      "execution_count": null,
      "outputs": [
        {
          "output_type": "display_data",
          "data": {
            "text/plain": [
              "<IPython.core.display.Javascript object>"
            ],
            "application/javascript": [
              "\n",
              "    async function download(id, filename, size) {\n",
              "      if (!google.colab.kernel.accessAllowed) {\n",
              "        return;\n",
              "      }\n",
              "      const div = document.createElement('div');\n",
              "      const label = document.createElement('label');\n",
              "      label.textContent = `Downloading \"${filename}\": `;\n",
              "      div.appendChild(label);\n",
              "      const progress = document.createElement('progress');\n",
              "      progress.max = size;\n",
              "      div.appendChild(progress);\n",
              "      document.body.appendChild(div);\n",
              "\n",
              "      const buffers = [];\n",
              "      let downloaded = 0;\n",
              "\n",
              "      const channel = await google.colab.kernel.comms.open(id);\n",
              "      // Send a message to notify the kernel that we're ready.\n",
              "      channel.send({})\n",
              "\n",
              "      for await (const message of channel.messages) {\n",
              "        // Send a message to notify the kernel that we're ready.\n",
              "        channel.send({})\n",
              "        if (message.buffers) {\n",
              "          for (const buffer of message.buffers) {\n",
              "            buffers.push(buffer);\n",
              "            downloaded += buffer.byteLength;\n",
              "            progress.value = downloaded;\n",
              "          }\n",
              "        }\n",
              "      }\n",
              "      const blob = new Blob(buffers, {type: 'application/binary'});\n",
              "      const a = document.createElement('a');\n",
              "      a.href = window.URL.createObjectURL(blob);\n",
              "      a.download = filename;\n",
              "      div.appendChild(a);\n",
              "      a.click();\n",
              "      div.remove();\n",
              "    }\n",
              "  "
            ]
          },
          "metadata": {}
        },
        {
          "output_type": "display_data",
          "data": {
            "text/plain": [
              "<IPython.core.display.Javascript object>"
            ],
            "application/javascript": [
              "download(\"download_b9f15fef-92ef-4a28-a0d0-317ec69e19c5\", \"sampled_data_final.csv\", 38164621)"
            ]
          },
          "metadata": {}
        }
      ]
    },
    {
      "cell_type": "code",
      "source": [
        "sampled_data_final.shape"
      ],
      "metadata": {
        "colab": {
          "base_uri": "https://localhost:8080/"
        },
        "id": "kV9AIGqM5giD",
        "outputId": "92c1b004-9209-49bc-e4b7-a7853069587e"
      },
      "execution_count": null,
      "outputs": [
        {
          "output_type": "execute_result",
          "data": {
            "text/plain": [
              "(360234, 20)"
            ]
          },
          "metadata": {},
          "execution_count": 40
        }
      ]
    },
    {
      "cell_type": "code",
      "source": [],
      "metadata": {
        "id": "SaS903JY4Sbg"
      },
      "execution_count": null,
      "outputs": []
    },
    {
      "cell_type": "code",
      "source": [],
      "metadata": {
        "id": "OUikzOCC4SeU"
      },
      "execution_count": null,
      "outputs": []
    }
  ]
}